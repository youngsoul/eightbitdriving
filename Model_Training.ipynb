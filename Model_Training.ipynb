{
 "cells": [
  {
   "cell_type": "markdown",
   "id": "aeb1b53b",
   "metadata": {},
   "source": [
    "# Train model to autonomously drive your 8-bit car"
   ]
  },
  {
   "cell_type": "code",
   "execution_count": 38,
   "id": "db3ea72f",
   "metadata": {
    "ExecuteTime": {
     "end_time": "2021-04-21T01:43:12.271948Z",
     "start_time": "2021-04-21T01:43:12.266794Z"
    }
   },
   "outputs": [],
   "source": [
    "import pandas as pd\n",
    "\n",
    "from sklearn.linear_model import LogisticRegression\n",
    "from sklearn.model_selection import cross_val_score\n",
    "from sklearn.tree import DecisionTreeClassifier\n",
    "from sklearn.svm import SVC\n",
    "from sklearn.naive_bayes import GaussianNB\n",
    "from sklearn.model_selection import GridSearchCV\n",
    "from sklearn.neighbors import KNeighborsClassifier\n",
    "from sklearn.linear_model import LinearRegression\n",
    "from sklearn.neural_network import MLPClassifier\n",
    "from sklearn.ensemble import RandomForestClassifier\n",
    "import joblib\n",
    "\n",
    "import matplotlib.pyplot as plt\n",
    "\n",
    "import warnings\n",
    "warnings.filterwarnings(\"ignore\")"
   ]
  },
  {
   "cell_type": "markdown",
   "id": "e54e6479",
   "metadata": {},
   "source": [
    "## Utilities"
   ]
  },
  {
   "cell_type": "code",
   "execution_count": 39,
   "id": "e3d82c44",
   "metadata": {
    "ExecuteTime": {
     "end_time": "2021-04-21T01:43:12.278899Z",
     "start_time": "2021-04-21T01:43:12.274791Z"
    }
   },
   "outputs": [],
   "source": [
    "# 0 = Left, 1 = Straight, 2 = Right\n",
    "direction = ['Left', 'Straight', 'Right']\n",
    "\n",
    "def show_road(img, caption='', subplot=None):\n",
    "    if subplot==None:\n",
    "        _,(subplot)=plt.subplots(1,1)\n",
    "    imgr=img.reshape((10,25))\n",
    "    print(imgr)\n",
    "    subplot.axis('off')\n",
    "    subplot.imshow(imgr, cmap='gray')\n",
    "    plt.title(caption)\n"
   ]
  },
  {
   "cell_type": "code",
   "execution_count": null,
   "id": "2ca9127c",
   "metadata": {},
   "outputs": [],
   "source": []
  },
  {
   "cell_type": "markdown",
   "id": "8db45fa8",
   "metadata": {},
   "source": [
    "## Load the driving training data"
   ]
  },
  {
   "cell_type": "code",
   "execution_count": 40,
   "id": "4c85bd07",
   "metadata": {
    "ExecuteTime": {
     "end_time": "2021-04-21T01:43:12.300764Z",
     "start_time": "2021-04-21T01:43:12.281730Z"
    }
   },
   "outputs": [],
   "source": [
    "df = pd.read_csv('training.csv', header=None)\n",
    "X = df.loc[:, 1:]\n",
    "y = df.loc[:, 0]\n"
   ]
  },
  {
   "cell_type": "code",
   "execution_count": 41,
   "id": "46456cd2",
   "metadata": {
    "ExecuteTime": {
     "end_time": "2021-04-21T01:43:12.312619Z",
     "start_time": "2021-04-21T01:43:12.302617Z"
    }
   },
   "outputs": [
    {
     "data": {
      "text/html": [
       "<div>\n",
       "<style scoped>\n",
       "    .dataframe tbody tr th:only-of-type {\n",
       "        vertical-align: middle;\n",
       "    }\n",
       "\n",
       "    .dataframe tbody tr th {\n",
       "        vertical-align: top;\n",
       "    }\n",
       "\n",
       "    .dataframe thead th {\n",
       "        text-align: right;\n",
       "    }\n",
       "</style>\n",
       "<table border=\"1\" class=\"dataframe\">\n",
       "  <thead>\n",
       "    <tr style=\"text-align: right;\">\n",
       "      <th></th>\n",
       "      <th>0</th>\n",
       "      <th>1</th>\n",
       "      <th>2</th>\n",
       "      <th>3</th>\n",
       "      <th>4</th>\n",
       "      <th>5</th>\n",
       "      <th>6</th>\n",
       "      <th>7</th>\n",
       "      <th>8</th>\n",
       "      <th>9</th>\n",
       "      <th>...</th>\n",
       "      <th>241</th>\n",
       "      <th>242</th>\n",
       "      <th>243</th>\n",
       "      <th>244</th>\n",
       "      <th>245</th>\n",
       "      <th>246</th>\n",
       "      <th>247</th>\n",
       "      <th>248</th>\n",
       "      <th>249</th>\n",
       "      <th>250</th>\n",
       "    </tr>\n",
       "  </thead>\n",
       "  <tbody>\n",
       "    <tr>\n",
       "      <th>0</th>\n",
       "      <td>1</td>\n",
       "      <td>0</td>\n",
       "      <td>0</td>\n",
       "      <td>0</td>\n",
       "      <td>0</td>\n",
       "      <td>0</td>\n",
       "      <td>0</td>\n",
       "      <td>0</td>\n",
       "      <td>0</td>\n",
       "      <td>0</td>\n",
       "      <td>...</td>\n",
       "      <td>0</td>\n",
       "      <td>0</td>\n",
       "      <td>0</td>\n",
       "      <td>0</td>\n",
       "      <td>0</td>\n",
       "      <td>0</td>\n",
       "      <td>0</td>\n",
       "      <td>0</td>\n",
       "      <td>0</td>\n",
       "      <td>0</td>\n",
       "    </tr>\n",
       "    <tr>\n",
       "      <th>1</th>\n",
       "      <td>1</td>\n",
       "      <td>0</td>\n",
       "      <td>0</td>\n",
       "      <td>0</td>\n",
       "      <td>0</td>\n",
       "      <td>0</td>\n",
       "      <td>0</td>\n",
       "      <td>0</td>\n",
       "      <td>1</td>\n",
       "      <td>2</td>\n",
       "      <td>...</td>\n",
       "      <td>0</td>\n",
       "      <td>0</td>\n",
       "      <td>0</td>\n",
       "      <td>0</td>\n",
       "      <td>0</td>\n",
       "      <td>0</td>\n",
       "      <td>0</td>\n",
       "      <td>0</td>\n",
       "      <td>0</td>\n",
       "      <td>0</td>\n",
       "    </tr>\n",
       "    <tr>\n",
       "      <th>2</th>\n",
       "      <td>2</td>\n",
       "      <td>0</td>\n",
       "      <td>0</td>\n",
       "      <td>0</td>\n",
       "      <td>0</td>\n",
       "      <td>0</td>\n",
       "      <td>0</td>\n",
       "      <td>1</td>\n",
       "      <td>2</td>\n",
       "      <td>2</td>\n",
       "      <td>...</td>\n",
       "      <td>0</td>\n",
       "      <td>0</td>\n",
       "      <td>0</td>\n",
       "      <td>0</td>\n",
       "      <td>0</td>\n",
       "      <td>0</td>\n",
       "      <td>0</td>\n",
       "      <td>0</td>\n",
       "      <td>0</td>\n",
       "      <td>0</td>\n",
       "    </tr>\n",
       "    <tr>\n",
       "      <th>3</th>\n",
       "      <td>2</td>\n",
       "      <td>0</td>\n",
       "      <td>0</td>\n",
       "      <td>0</td>\n",
       "      <td>0</td>\n",
       "      <td>0</td>\n",
       "      <td>1</td>\n",
       "      <td>2</td>\n",
       "      <td>2</td>\n",
       "      <td>2</td>\n",
       "      <td>...</td>\n",
       "      <td>0</td>\n",
       "      <td>0</td>\n",
       "      <td>0</td>\n",
       "      <td>0</td>\n",
       "      <td>0</td>\n",
       "      <td>0</td>\n",
       "      <td>0</td>\n",
       "      <td>0</td>\n",
       "      <td>0</td>\n",
       "      <td>0</td>\n",
       "    </tr>\n",
       "    <tr>\n",
       "      <th>4</th>\n",
       "      <td>2</td>\n",
       "      <td>0</td>\n",
       "      <td>0</td>\n",
       "      <td>0</td>\n",
       "      <td>0</td>\n",
       "      <td>0</td>\n",
       "      <td>1</td>\n",
       "      <td>2</td>\n",
       "      <td>2</td>\n",
       "      <td>2</td>\n",
       "      <td>...</td>\n",
       "      <td>0</td>\n",
       "      <td>0</td>\n",
       "      <td>0</td>\n",
       "      <td>0</td>\n",
       "      <td>0</td>\n",
       "      <td>0</td>\n",
       "      <td>0</td>\n",
       "      <td>0</td>\n",
       "      <td>0</td>\n",
       "      <td>0</td>\n",
       "    </tr>\n",
       "  </tbody>\n",
       "</table>\n",
       "<p>5 rows × 251 columns</p>\n",
       "</div>"
      ],
      "text/plain": [
       "   0    1    2    3    4    5    6    7    8    9    ...  241  242  243  244  \\\n",
       "0    1    0    0    0    0    0    0    0    0    0  ...    0    0    0    0   \n",
       "1    1    0    0    0    0    0    0    0    1    2  ...    0    0    0    0   \n",
       "2    2    0    0    0    0    0    0    1    2    2  ...    0    0    0    0   \n",
       "3    2    0    0    0    0    0    1    2    2    2  ...    0    0    0    0   \n",
       "4    2    0    0    0    0    0    1    2    2    2  ...    0    0    0    0   \n",
       "\n",
       "   245  246  247  248  249  250  \n",
       "0    0    0    0    0    0    0  \n",
       "1    0    0    0    0    0    0  \n",
       "2    0    0    0    0    0    0  \n",
       "3    0    0    0    0    0    0  \n",
       "4    0    0    0    0    0    0  \n",
       "\n",
       "[5 rows x 251 columns]"
      ]
     },
     "execution_count": 41,
     "metadata": {},
     "output_type": "execute_result"
    }
   ],
   "source": [
    "df.head()"
   ]
  },
  {
   "cell_type": "code",
   "execution_count": 42,
   "id": "1f191533",
   "metadata": {
    "ExecuteTime": {
     "end_time": "2021-04-21T01:43:12.361835Z",
     "start_time": "2021-04-21T01:43:12.313964Z"
    }
   },
   "outputs": [
    {
     "name": "stdout",
     "output_type": "stream",
     "text": [
      "[[0 0 0 0 0 0 0 1 2 2 2 2 2 1 0 0 0 0 0 0 0 0 0 0 0]\n",
      " [0 0 0 0 0 0 0 1 2 2 2 2 2 1 0 0 0 0 0 0 0 0 0 0 0]\n",
      " [0 0 0 0 0 0 0 0 1 2 2 2 2 2 1 0 0 0 0 0 0 0 0 0 0]\n",
      " [0 0 0 0 0 0 0 0 0 0 1 2 2 2 2 2 1 0 0 0 0 0 0 0 0]\n",
      " [0 0 0 0 0 0 0 0 0 0 0 0 1 2 2 2 2 2 1 0 0 0 0 0 0]\n",
      " [0 0 0 0 0 0 0 0 0 0 0 0 0 1 2 2 2 2 2 1 0 0 0 0 0]\n",
      " [0 0 0 0 0 0 0 0 0 0 0 0 0 1 2 2 2 2 2 1 0 0 0 0 0]\n",
      " [0 0 0 0 0 0 0 0 0 0 0 0 1 2 2 2 2 2 1 0 0 0 0 0 0]\n",
      " [0 0 0 0 0 0 0 0 0 0 1 2 2 2 2 2 1 0 0 0 0 0 0 0 0]\n",
      " [0 0 0 0 0 0 0 0 1 2 2 2 2 2 1 0 0 0 0 0 0 0 0 0 0]]\n"
     ]
    },
    {
     "data": {
      "image/png": "[encoded data removed]",
      "text/plain": [
       "<Figure size 432x288 with 1 Axes>"
      ]
     },
     "metadata": {
      "needs_background": "light"
     },
     "output_type": "display_data"
    }
   ],
   "source": [
    "road_matrix = df.values\n",
    "row = 123\n",
    "show_road(road_matrix[row][1:], \"Label = {}, {}\".format(road_matrix[row][0], direction[road_matrix[row][0]]))"
   ]
  },
  {
   "cell_type": "markdown",
   "id": "2e4fd2fe",
   "metadata": {},
   "source": [
    "## Create map of models to train"
   ]
  },
  {
   "cell_type": "code",
   "execution_count": 43,
   "id": "69464d05",
   "metadata": {
    "ExecuteTime": {
     "end_time": "2021-04-21T01:43:12.369994Z",
     "start_time": "2021-04-21T01:43:12.364051Z"
    }
   },
   "outputs": [],
   "source": [
    "models = [\n",
    "        {\n",
    "            'model': LogisticRegression(multi_class='multinomial'),\n",
    "            'params_grid': dict(penalty=['l2'], C=[10, 1, 0.1, 0.01], solver=['newton-cg', 'sag', 'lbfgs'],\n",
    "                                max_iter=[100, 200, 300]),\n",
    "            'name': 'LogisticRegression',\n",
    "            'skip': False\n",
    "        },\n",
    "        {\n",
    "            'model': DecisionTreeClassifier(),\n",
    "            'params_grid': dict(criterion=['gini', 'entropy'], max_depth=[2, 3, 4, 5], min_samples_split=[2, 3]),\n",
    "            'name': 'DecisionTree',\n",
    "            'skip': False\n",
    "        },\n",
    "        {\n",
    "            'model': SVC(kernel='linear', C=1),\n",
    "            'params_grid': dict(kernel=['linear', 'rbf', 'poly'], gamma=['auto', 'scale']),\n",
    "            'name': 'SVC',\n",
    "            \n",
    "            'skip': False\n",
    "        },\n",
    "        {\n",
    "            'model': GaussianNB(),\n",
    "            'params_grid': None,\n",
    "            'name': 'MultinomialNB',\n",
    "            'skip': True\n",
    "        },\n",
    "        {\n",
    "            'model': KNeighborsClassifier(),\n",
    "            'params_grid': dict(n_neighbors=list(range(1, 10)), weights=['uniform', 'distance']),\n",
    "            'name': 'KNN GridSearch',\n",
    "            'skip': False\n",
    "        },\n",
    "        {\n",
    "            'model': KNeighborsClassifier(),\n",
    "            'params_grid': None,\n",
    "            'name': 'KNN Default',\n",
    "            'skip': True\n",
    "        },\n",
    "        {\n",
    "            'model': LinearRegression(),\n",
    "            'params_grid': None,\n",
    "            'name': 'Linear',\n",
    "            'skip': True\n",
    "        },\n",
    "        {\n",
    "            'model': RandomForestClassifier(),\n",
    "            'params_grid': dict(n_estimators=[100], max_depth=[2,3,4]),\n",
    "            'name': 'RandomForestClassifier',\n",
    "            'skip': False\n",
    "        }\n",
    "\n",
    "    ]\n"
   ]
  },
  {
   "cell_type": "markdown",
   "id": "06e9b38b",
   "metadata": {},
   "source": [
    "#### Train Model Utility Function"
   ]
  },
  {
   "cell_type": "code",
   "execution_count": 44,
   "id": "83a0ff46",
   "metadata": {
    "ExecuteTime": {
     "end_time": "2021-04-21T01:43:12.375866Z",
     "start_time": "2021-04-21T01:43:12.371946Z"
    }
   },
   "outputs": [],
   "source": [
    "def train_model(model, X, y, name=None, param_grid=None):\n",
    "    if name:\n",
    "        print(f\"\\nTraining: {name}\")\n",
    "\n",
    "    if param_grid:\n",
    "        grid = GridSearchCV(model, param_grid, cv=5)\n",
    "        grid.fit(X, y)\n",
    "        print(grid.best_score_)\n",
    "        print(grid.best_params_)\n",
    "        print(grid.best_estimator_)\n",
    "        best_model = grid.best_estimator_\n",
    "        best_params = grid.best_params_\n",
    "        best_score = grid.best_score_\n",
    "    else:\n",
    "        cv_scores = cross_val_score(model, X, y, cv=5)\n",
    "        print(cv_scores, cv_scores.mean())\n",
    "        best_model = model\n",
    "        best_params = param_grid\n",
    "        best_score = cv_scores.mean()\n",
    "\n",
    "    return best_score, best_params, best_model\n"
   ]
  },
  {
   "cell_type": "markdown",
   "id": "adf60548",
   "metadata": {},
   "source": [
    "## Find the best model to drive the car"
   ]
  },
  {
   "cell_type": "code",
   "execution_count": 45,
   "id": "715fdd06",
   "metadata": {
    "ExecuteTime": {
     "end_time": "2021-04-21T01:43:22.960635Z",
     "start_time": "2021-04-21T01:43:12.378518Z"
    }
   },
   "outputs": [
    {
     "name": "stdout",
     "output_type": "stream",
     "text": [
      "\n",
      "Training: LogisticRegression\n",
      "0.8\n",
      "{'C': 0.01, 'max_iter': 100, 'penalty': 'l2', 'solver': 'newton-cg'}\n",
      "LogisticRegression(C=0.01, multi_class='multinomial', solver='newton-cg')\n",
      "\n",
      "Training: DecisionTree\n",
      "0.8266666666666668\n",
      "{'criterion': 'entropy', 'max_depth': 3, 'min_samples_split': 2}\n",
      "DecisionTreeClassifier(criterion='entropy', max_depth=3)\n",
      "\n",
      "Training: SVC\n",
      "0.8066666666666666\n",
      "{'gamma': 'auto', 'kernel': 'linear'}\n",
      "SVC(C=1, gamma='auto', kernel='linear')\n",
      "\n",
      "Training: KNN GridSearch\n",
      "0.8066666666666669\n",
      "{'n_neighbors': 9, 'weights': 'uniform'}\n",
      "KNeighborsClassifier(n_neighbors=9)\n",
      "\n",
      "Training: RandomForestClassifier\n",
      "0.8266666666666668\n",
      "{'max_depth': 2, 'n_estimators': 100}\n",
      "RandomForestClassifier(max_depth=2)\n"
     ]
    }
   ],
   "source": [
    "best_model = None\n",
    "best_params = None\n",
    "best_score = -1\n",
    "for model in models:\n",
    "    if not model['skip']:\n",
    "        score, params, best = train_model(model['model'], X, y, name=model['name'], param_grid=model['params_grid'])\n",
    "\n",
    "        if score > best_score:\n",
    "            best_params = params\n",
    "            best_model = best\n",
    "            best_score = score\n"
   ]
  },
  {
   "cell_type": "code",
   "execution_count": 46,
   "id": "33c8627e",
   "metadata": {
    "ExecuteTime": {
     "end_time": "2021-04-21T01:43:22.965963Z",
     "start_time": "2021-04-21T01:43:22.963356Z"
    }
   },
   "outputs": [
    {
     "name": "stdout",
     "output_type": "stream",
     "text": [
      "DecisionTreeClassifier(criterion='entropy', max_depth=3)\n",
      "{'criterion': 'entropy', 'max_depth': 3, 'min_samples_split': 2}\n",
      "0.8266666666666668\n"
     ]
    }
   ],
   "source": [
    "print(best_model)\n",
    "print(best_params) \n",
    "print(best_score)"
   ]
  },
  {
   "cell_type": "markdown",
   "id": "ed508334",
   "metadata": {},
   "source": [
    "## Save the best model"
   ]
  },
  {
   "cell_type": "code",
   "execution_count": 47,
   "id": "17aae7ff",
   "metadata": {
    "ExecuteTime": {
     "end_time": "2021-04-21T01:43:22.972418Z",
     "start_time": "2021-04-21T01:43:22.967868Z"
    }
   },
   "outputs": [
    {
     "data": {
      "text/plain": [
       "['best_driving_model.sav']"
      ]
     },
     "execution_count": 47,
     "metadata": {},
     "output_type": "execute_result"
    }
   ],
   "source": [
    "joblib.dump(best_model, \"best_driving_model.sav\")\n"
   ]
  }
 ],
 "metadata": {
  "kernelspec": {
   "display_name": "Python 3",
   "language": "python",
   "name": "python3"
  },
  "language_info": {
   "codemirror_mode": {
    "name": "ipython",
    "version": 3
   },
   "file_extension": ".py",
   "mimetype": "text/x-python",
   "name": "python",
   "nbconvert_exporter": "python",
   "pygments_lexer": "ipython3",
   "version": "3.9.4"
  },
  "toc": {
   "base_numbering": 1,
   "nav_menu": {},
   "number_sections": true,
   "sideBar": true,
   "skip_h1_title": false,
   "title_cell": "Table of Contents",
   "title_sidebar": "Contents",
   "toc_cell": false,
   "toc_position": {},
   "toc_section_display": true,
   "toc_window_display": false
  }
 },
 "nbformat": 4,
 "nbformat_minor": 5
}
